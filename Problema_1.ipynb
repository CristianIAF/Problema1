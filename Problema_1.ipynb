{
  "nbformat": 4,
  "nbformat_minor": 0,
  "metadata": {
    "colab": {
      "provenance": []
    },
    "kernelspec": {
      "name": "python3",
      "display_name": "Python 3"
    },
    "language_info": {
      "name": "python"
    }
  },
  "cells": [
    {
      "cell_type": "markdown",
      "source": [
        "1 - Crea un programa que tenga la siguiente lista con los gastos de una empresa de papel [2172.54, 3701.35, 3518.09, 3456.61, 3249.38, 2840.82, 3891.45, 3075.26, 2317.64, 3219.08]. Con estos valores, crea un programa que calcule el promedio de gastos. Sugerencia: usa las funciones integradas sum() y len()."
      ],
      "metadata": {
        "id": "4J6cE-mCvKNm"
      }
    },
    {
      "cell_type": "code",
      "source": [
        "# Lista de gastos de la empresa de papel\n",
        "gastos = [2172.54, 3701.35, 3518.09, 3456.61, 3249.38, 2840.82, 3891.45, 3075.26, 2317.64, 3219.08]\n",
        "\n",
        "# Calcular el promedio usando sum() y len()\n",
        "promedio = sum(gastos) / len(gastos)\n",
        "\n",
        "# Mostrar el resultado con dos decimales\n",
        "print(f\"El promedio de gastos de la empresa de papel es: {promedio:.2f}\")"
      ],
      "metadata": {
        "colab": {
          "base_uri": "https://localhost:8080/"
        },
        "id": "6PfvbRQZvMoW",
        "outputId": "f5917dc3-31f2-4dfb-ab38-3a824cf51b3d"
      },
      "execution_count": 1,
      "outputs": [
        {
          "output_type": "stream",
          "name": "stdout",
          "text": [
            "El promedio de gastos de la empresa de papel es: 3144.22\n"
          ]
        }
      ]
    },
    {
      "cell_type": "markdown",
      "source": [
        "###Explicación:"
      ],
      "metadata": {
        "id": "4pvuLLGxvayq"
      }
    },
    {
      "cell_type": "markdown",
      "source": [
        "1_Creamos la lista gastos con los valores proporcionados.\n",
        "2_Calculamos el promedio dividiendo la suma total de gastos (sum(gastos)) entre la cantidad de elementos (len(gastos))"
      ],
      "metadata": {
        "id": "twPwoTCuvrWm"
      }
    }
  ]
}